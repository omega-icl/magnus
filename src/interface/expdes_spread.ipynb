{
 "cells": [
  {
   "cell_type": "markdown",
   "id": "a2b67dd9-5f60-4837-9707-f64e77d5b8a9",
   "metadata": {},
   "source": [
    "# Experiment Design for Operable Space Maximization in a CSTR Cascade Model"
   ]
  },
  {
   "cell_type": "markdown",
   "id": "5088c781-462b-4ef2-bd5c-d01fd2cbb34d",
   "metadata": {},
   "source": [
    "Consider the design of experiments for a system of two continuously stirred tank reactors (CSTRs) in series. Pure reactants A and D are fed into the first CSTR and allowed to react. The effluent stream is then fed into the second reactor to react further before being removed for more processing downstream. The system is assumed to operate at steady state with perfect mixing. The desired reaction (formation of B) is kinetically more favorable than the degradation of B and is exothermic.\n",
    "$$\\begin{align}\n",
    "{\\sf A}+{\\sf D}\\ \\stackrel{k_1}{\\longrightarrow}\\ {\\sf B}\\ \\stackrel{k_2}{\\longrightarrow}\\ {\\sf C}\n",
    "\\end{align}$$\n",
    "The model equations and parameter values are taken from a case study in [Chen _et al_ (2019)](https://doi.org/10.1002/aic.16214):\n",
    "$$\\begin{align}\n",
    "0\\ =\\ & Q_0 (c_{i,k-1}-c_{i,k}) + V_k \\sum_{j=1}^{n_{\\rm r}} \\nu_{i,j}\\: r_{j,k}(c_{\\cdot,k},T_k), \\quad i={\\sf A},{\\sf B},{\\sf C},{\\sf D}\\\\\n",
    "0\\ =\\ & \\rho\\:c_{\\rm p}\\:Q_0(T_{k-1}-T_k) + V_k \\sum_{j=1}^{n_{\\rm r}} (-\\Delta H_j)\\: r_{j,k}(c_{\\cdot,k},T_k)\\\\\n",
    "& \\text{with:}\\ k_{j}(T)\\ \\doteq\\ k_{j}^0 \\exp\\left(-\\frac{E_{{\\rm a},j}}{T-273}\\right)\n",
    "\\end{align}$$\n",
    "The 6 inputs of interest comprise the concentration of A ($c_{{\\sf A},0}$), A:D concentration ratio ($x_{{\\sf A:D},0}$), flow rate ($Q_0$) and temperature ($T_0$) of the feed of $\\sf CSTR1$, and working volume of both CSTRs ($V_1,V_2$); the 3 outputs consist of the temperature ($T_2$), mole fractions of reactant A ($x_{{\\sf A},2}$) and impurity C ($x_{{\\sf C},2}$) at the outlet of $\\sf CSTR2$.\n",
    "\n",
    "The impurity mole fraction in the product stream must be kept under 0.002 to remain within specifications. As a measure of reaction completeness, the exit mole fraction of reactant A must remain below 0.02 because there is no recycle in the system. Finally, the exit temperature must be kept under 85 $\\sf ^oC$ to prevent degradation of reactant D.\n",
    "$$\\begin{align}\n",
    "    x_{{\\sf A},2} \\doteq \\frac{c_{{\\sf A},2}}{c_{{\\sf A},2}+c_{{\\sf B},2}+c_{{\\sf C},2}+c_{{\\sf D},2}}\\ & \\leq\\ 0.02\\\\\n",
    "    x_{{\\sf C},2} \\doteq \\frac{c_{{\\sf C},2}}{c_{{\\sf A},2}+c_{{\\sf B},2}+c_{{\\sf C},2}+c_{{\\sf D},2}}\\ & \\leq\\ 0.002\\\\\n",
    "    T_2\\ & \\leq\\ 85\\: {\\sf ^oC}\n",
    "\\end{align}$$\n",
    "Within these constraints, the **feasible output space should be explored to as great an extent as possible**."
   ]
  },
  {
   "cell_type": "code",
   "execution_count": 1,
   "id": "81d39495-1ddc-48a4-88c4-cef0327c2f2b",
   "metadata": {},
   "outputs": [],
   "source": [
    "import numpy as np\n",
    "import pymc\n",
    "import cronos"
   ]
  },
  {
   "cell_type": "markdown",
   "id": "f6a91138-0489-4710-a47b-d7feec35c83a",
   "metadata": {},
   "source": [
    "We start by defining the DAG for the dynamic model:"
   ]
  },
  {
   "cell_type": "code",
   "execution_count": 2,
   "id": "cb18349d-6766-482b-8d7e-66119fecb9a5",
   "metadata": {},
   "outputs": [],
   "source": [
    "IVPDAG = pymc.FFGraph()\n",
    "IVPDAG.options.MAXTHREAD = 0\n",
    "\n",
    "# Controls\n",
    "CA0  = pymc.FFVar(IVPDAG, \"CA0\")  # concentration of A in feed of CSTR1 [mol/L]\n",
    "xAD0 = pymc.FFVar(IVPDAG, \"xAD0\") # A:D concentration ratio in feed of CSTR1 [mol/L]\n",
    "Q    = pymc.FFVar(IVPDAG, \"Q\")    # flow rate [L/h]\n",
    "T0   = pymc.FFVar(IVPDAG, \"T0\")   # feed temperature of feed of CSTR1 [oC]\n",
    "V1   = pymc.FFVar(IVPDAG, \"V1\")   # volume of CSTR1 [V]\n",
    "V2   = pymc.FFVar(IVPDAG, \"V2\")   # volume of CSTR2 [V]\n",
    "\n",
    "# Parameters\n",
    "k01 = pymc.FFVar(IVPDAG, \"k01\")   # reaction rate constant for reaction 1\n",
    "k02 = pymc.FFVar(IVPDAG, \"k02\")   # reaction rate constant for reaction 2\n",
    "Ea1 = pymc.FFVar(IVPDAG, \"Ea1\")   # activation energy for reaction 1\n",
    "Ea2 = pymc.FFVar(IVPDAG, \"Ea2\")   # activation energy for reaction 2\n",
    "DH1 = pymc.FFVar(IVPDAG, \"DH1\")   # heat of reaction for reaction 1\n",
    "DH2 = pymc.FFVar(IVPDAG, \"DH2\")   # heat of reaction for reaction 2\n",
    "cp  = pymc.FFVar(IVPDAG, \"cp\")    # heat capacity of mixture\n",
    "rho = pymc.FFVar(IVPDAG, \"rho\")   # density of mixture\n",
    "\n",
    "# States\n",
    "CA1 = pymc.FFVar(IVPDAG, \"CA1\")   # concentration of A in CSTR1 [mol/L]\n",
    "CB1 = pymc.FFVar(IVPDAG, \"CB1\")   # concentration of B in CSTR1 [mol/L]\n",
    "CC1 = pymc.FFVar(IVPDAG, \"CC1\")   # concentration of C in CSTR1 [mol/L]\n",
    "CD1 = pymc.FFVar(IVPDAG, \"CD1\")   # concentration of D in CSTR1 [mol/L]\n",
    "T1  = pymc.FFVar(IVPDAG, \"T1\")    # temperature of CSTR1 [oC]\n",
    "CA2 = pymc.FFVar(IVPDAG, \"CA2\")   # concentration of A in CSTR2 [mol/L]\n",
    "CB2 = pymc.FFVar(IVPDAG, \"CB2\")   # concentration of B in CSTR2 [mol/L]\n",
    "CC2 = pymc.FFVar(IVPDAG, \"CC2\")   # concentration of C in CSTR2 [mol/L]\n",
    "CD2 = pymc.FFVar(IVPDAG, \"CD2\")   # concentration of D in CSTR2 [mol/L]\n",
    "T2  = pymc.FFVar(IVPDAG, \"T2\")    # temperature of CSTR2 [oC]\n",
    "\n",
    "# Constants\n",
    "CB0  = pymc.FFVar(IVPDAG, \"CB0\")  # concentration of B in feed of CSTR1 [mol/L]\n",
    "CC0  = pymc.FFVar(IVPDAG, \"CC0\")  # concentration of C in feed of CSTR1 [mol/L]\n",
    "CD0 = CA0 / xAD0; CD0.set(\"CD0\")"
   ]
  },
  {
   "cell_type": "markdown",
   "id": "2343be13-bfe2-4f57-9240-e30f8e925cfc",
   "metadata": {},
   "source": [
    "We instantiate `ODESLV` and populate it with the dynamic model expressions:"
   ]
  },
  {
   "cell_type": "code",
   "execution_count": 3,
   "id": "161e4903-6fe3-4d6f-8661-a99c7fd322c5",
   "metadata": {},
   "outputs": [
    {
     "name": "stdout",
     "output_type": "stream",
     "text": [
      "[0.0, 1000.0]\n",
      "[{0: Z77, 1: Z78, 2: T2}]\n"
     ]
    }
   ],
   "source": [
    "IVP = cronos.ODESLV()\n",
    "\n",
    "IVP.set_dag( IVPDAG )\n",
    "IVP.set_parameter( [CA0, xAD0, Q, T0, V1, V2] )\n",
    "IVP.set_constant( [k01, k02, Ea1, Ea2, DH1, DH2, cp, rho, CB0, CC0] )\n",
    "IVP.set_state( [CA1, CB1, CC1, CD1, T1, CA2, CB2, CC2, CD2, T2] )\n",
    "\n",
    "k11 = k01 * pymc.exp ( - Ea1 / ( T1 + 273.15 ) )\n",
    "k21 = k02 * pymc.exp ( - Ea2 / ( T1 + 273.15 ) )\n",
    "r11 = k11 * CA1 * CD1\n",
    "r21 = k21 * CB1\n",
    "dCA1 = Q * ( CA0 - CA1 ) + V1 * ( -r11 )\n",
    "dCB1 = Q * ( CB0 - CB1 ) + V1 * ( r11 - r21 )\n",
    "dCC1 = Q * ( CC0 - CC1 ) + V1 * ( r21 )\n",
    "dCD1 = Q * ( CD0 - CD1 ) + V1 * ( -r11 )\n",
    "dT1  = Q * rho * cp * ( T0 - T1 ) + V1 * ( -r11 * DH1 - r21 * DH2 );\n",
    "\n",
    "k12 = k01 * pymc.exp ( - Ea1 / ( T2 + 273.15 ) )\n",
    "k22 = k02 * pymc.exp ( - Ea2 / ( T2 + 273.15 ) )\n",
    "r12 = k12 * CA2 * CD2\n",
    "r22 = k22 * CB2\n",
    "dCA2 = Q * ( CA1 - CA2 ) + V2 * ( -r12 )\n",
    "dCB2 = Q * ( CB1 - CB2 ) + V2 * ( r12 - r22 )\n",
    "dCC2 = Q * ( CC1 - CC2 ) + V2 * ( r22 )\n",
    "dCD2 = Q * ( CD1 - CD2 ) + V2 * ( -r12 )\n",
    "dT2  = Q * rho * cp * ( T1 - T2 ) + V2 * ( -r12 * DH1 - r22 * DH2 );\n",
    "\n",
    "IVP.set_differential( [dCA1, dCB1, dCC1, dCD1, dT1, dCA2, dCB2, dCC2, dCD2, dT2] )\n",
    "IVP.set_initial( [CA0, CB0, CC0, CD0, T0, CA0, CB0, CC0, CD0, T0] )\n",
    "\n",
    "timegrid = np.linspace( 0, 1e3, 2, True ).tolist()\n",
    "print( timegrid )\n",
    "IVP.set_time( timegrid )\n",
    "\n",
    "IVP.set_function( { 0: CA2 / ( CA2 + CB2 + CC2 + CD2 ),\n",
    "                    1: CC2 / ( CA2 + CB2 + CC2 + CD2 ),\n",
    "                    2: T2 } )\n",
    "print( IVP.eqn_function )\n",
    "\n",
    "IVP.setup()"
   ]
  },
  {
   "cell_type": "markdown",
   "id": "1d03bfb4-ed1f-4c15-acfc-46d8da14d8ca",
   "metadata": {},
   "source": [
    "We solve the dynamic model with initial parameter guesses and record trajectories for display:"
   ]
  },
  {
   "cell_type": "code",
   "execution_count": 4,
   "id": "3cc6389b-0b7e-44e4-a687-39c5bc4c0eae",
   "metadata": {
    "scrolled": true
   },
   "outputs": [
    {
     "name": "stdout",
     "output_type": "stream",
     "text": [
      " @t = 0.000000e+00 :\n",
      "  x[0] = 8.000000e-01\n",
      "  x[1] = 0.000000e+00\n",
      "  x[2] = 0.000000e+00\n",
      "  x[3] = 1.000000e+00\n",
      "  x[4] = 2.200000e+01\n",
      "  x[5] = 8.000000e-01\n",
      "  x[6] = 0.000000e+00\n",
      "  x[7] = 0.000000e+00\n",
      "  x[8] = 1.000000e+00\n",
      "  x[9] = 2.200000e+01\n"
     ]
    },
    {
     "data": {
      "text/plain": [
       "<Status.Normal: 0>"
      ]
     },
     "execution_count": 4,
     "metadata": {},
     "output_type": "execute_result"
    },
    {
     "name": "stdout",
     "output_type": "stream",
     "text": [
      " @t = 1.000000e+03 :\n",
      "  x[0] = 1.193951e-01\n",
      "  x[1] = 6.798794e-01\n",
      "  x[2] = 7.254649e-04\n",
      "  x[3] = 3.193951e-01\n",
      "  x[4] = 6.203558e+01\n",
      "  x[5] = 2.057552e-02\n",
      "  x[6] = 7.776103e-01\n",
      "  x[7] = 1.814219e-03\n",
      "  x[8] = 2.205755e-01\n",
      "  x[9] = 6.784850e+01\n",
      "  f[0] = 2.016070e-02\n",
      "  f[1] = 1.777643e-03\n",
      "  f[2] = 6.784850e+01\n",
      " No STEPS    450\n",
      " No EVALATIONS   RHS: 683   JAC: 0\n",
      " CPU TIME (SEC)     0.00093\n",
      "\n"
     ]
    }
   ],
   "source": [
    "IVP.options.DISPLEVEL = 1 # displays numerical integration results\n",
    "IVP.options.RESRECORD = 200 # record 50 points along time horizon\n",
    "IVP.solve_state( [ 0.8, 0.8, 0.036, 22.0, 1.743, 1.826 ],\n",
    "                 [ 2800, 12, 2995, 4427, -80, 0, 1.7, 0.8, 0., 0. ] )"
   ]
  },
  {
   "cell_type": "code",
   "execution_count": 5,
   "id": "e4da1a49-ae5e-4717-bc2d-bf071aecee1a",
   "metadata": {},
   "outputs": [],
   "source": [
    "# Gather simulation results\n",
    "Pred_Exp = []\n",
    "for rec in IVP.results_state:\n",
    "    Pred_Exp.append( [rec.t] + rec.x )\n",
    "Pred_Exp = np.array( Pred_Exp )"
   ]
  },
  {
   "cell_type": "code",
   "execution_count": 6,
   "id": "0bf8c0ca-72cd-40c2-8e1b-6638c57c0505",
   "metadata": {},
   "outputs": [
    {
     "data": {
      "image/png": "[encoded data removed]",
      "text/plain": [
       "<Figure size 800x300 with 2 Axes>"
      ]
     },
     "metadata": {},
     "output_type": "display_data"
    }
   ],
   "source": [
    "import matplotlib.pyplot as plt\n",
    "\n",
    "fig, axes = plt.subplots(1, 2, figsize=(8, 3))\n",
    "\n",
    "axes[0].plot( Pred_Exp[0:10,0], Pred_Exp[0:10,6], color=\"blue\" )\n",
    "axes[0].set(xlabel=\"$t$\")\n",
    "axes[0].set(ylabel=\"$c_{A,2}$ (mol L$^{-1}$)\")\n",
    "\n",
    "axes[1].plot( Pred_Exp[0:10,0], Pred_Exp[0:10,9], color=\"blue\" )\n",
    "axes[1].set(xlabel=\"$t$\")\n",
    "axes[1].set(ylabel=\"$c_{D,2}$ (mol L$^{-1}$)\")\n",
    "\n",
    "[ fig.delaxes(ax) for ax in axes.flatten() if not ax.has_data() ]\n",
    "fig.tight_layout()"
   ]
  },
  {
   "cell_type": "markdown",
   "id": "4e4ec97e-7ca1-4f36-b10e-8d97c6aaed92",
   "metadata": {},
   "source": [
    "We embed the dynamic model into DAG operation:"
   ]
  },
  {
   "cell_type": "code",
   "execution_count": 7,
   "id": "10199b36-fd98-4a45-bbf4-666b709188f0",
   "metadata": {
    "scrolled": true
   },
   "outputs": [
    {
     "name": "stdout",
     "output_type": "stream",
     "text": [
      "\n",
      "OPERATIONS IN SUBGRAPH:\n",
      "  CA0\t<<  VARIABLE\n",
      "  xAD0\t<<  VARIABLE\n",
      "  Q\t<<  VARIABLE\n",
      "  T0\t<<  VARIABLE\n",
      "  V1\t<<  VARIABLE\n",
      "  V2\t<<  VARIABLE\n",
      "  k01\t<<  VARIABLE\n",
      "  k02\t<<  VARIABLE\n",
      "  Ea1\t<<  VARIABLE\n",
      "  Ea2\t<<  VARIABLE\n",
      "  DH1\t<<  VARIABLE\n",
      "  DH2\t<<  VARIABLE\n",
      "  cp\t<<  VARIABLE\n",
      "  rho\t<<  VARIABLE\n",
      "  CB0\t<<  VARIABLE\n",
      "  CC0\t<<  VARIABLE\n",
      "  Z79\t<<  ODE[0x591549ffe460]( CA0, xAD0, Q, T0, V1, V2, k01, k02, Ea1, Ea2, DH1, DH2, cp, rho, CB0, CC0 )\t[0]\n",
      "  Z80\t<<  ODE[0x591549ffe460]( CA0, xAD0, Q, T0, V1, V2, k01, k02, Ea1, Ea2, DH1, DH2, cp, rho, CB0, CC0 )\t[1]\n",
      "  Z81\t<<  ODE[0x591549ffe460]( CA0, xAD0, Q, T0, V1, V2, k01, k02, Ea1, Ea2, DH1, DH2, cp, rho, CB0, CC0 )\t[2]\n",
      "DEPENDENTS IN SUBGRAPH:\n",
      "  0:  Z79\n",
      "  1:  Z80\n",
      "  2:  Z81\n",
      "WORK ARRAY SIZE: 35\n",
      "MOVE ARRAY SIZE: 16\n"
     ]
    }
   ],
   "source": [
    "OpIVP = cronos.FFODE()\n",
    "IVP.options.DISPLEVEL = 0  # turn off display during numerical simulation\n",
    "IVP.options.RESRECORD = 0  # turn off trajectory record\n",
    "IVP.options.ATOL, IVP.options.ATOLS, IVP.options.RTOL, IVP.options.RTOLS = 1e-9, 1e-9, 1e-9, 1e-9\n",
    "\n",
    "Y = OpIVP( [CA0, xAD0, Q, T0, V1, V2], [k01, k02, Ea1, Ea2, DH1, DH2, cp, rho, CB0, CC0], IVP )\n",
    "IVPDAG.output( Y )"
   ]
  },
  {
   "cell_type": "code",
   "execution_count": 8,
   "id": "df9c17d4-a0ae-418a-a00b-8148d2f04573",
   "metadata": {
    "scrolled": true
   },
   "outputs": [
    {
     "data": {
      "text/plain": [
       "[0.020160700910459288, 0.0017776435945915687, 67.84849895952479]"
      ]
     },
     "execution_count": 8,
     "metadata": {},
     "output_type": "execute_result"
    }
   ],
   "source": [
    "IVPDAG.eval( Y,\n",
    "             [CA0, xAD0, Q, T0, V1, V2] + [k01, k02, Ea1, Ea2, DH1, DH2, cp, rho, CB0, CC0],\n",
    "             [ 0.8, 0.8, 0.036, 22.0, 1.743, 1.826 ] + [ 2800, 12, 2995, 4427, -80, 0, 1.7, 0.8, 0., 0. ] )"
   ]
  },
  {
   "cell_type": "markdown",
   "id": "b772c546-8b92-416e-a625-def4f2f18714",
   "metadata": {},
   "source": [
    "We are now in a position to define the experiment design problem."
   ]
  },
  {
   "cell_type": "code",
   "execution_count": 9,
   "id": "4f4aa0f8-364f-4368-95f7-fae20dd073d9",
   "metadata": {
    "scrolled": true
   },
   "outputs": [],
   "source": [
    "from magnus import ExpDes\n",
    "\n",
    "# Instantiate experiment design solver\n",
    "ED = ExpDes()\n",
    "ED.set_dag( IVPDAG )\n",
    "ED.set_model( Y, [3e-02, 6e-04, 1e3] ); # Scaling is important during to large differences in output magnitude\n",
    "\n",
    "# Output constraints\n",
    "G = [ Y[0] - 2e-2, Y[1] - 2e-3, Y[2] - 85 ]\n",
    "ED.set_constraint( G )\n",
    "\n",
    "# Nominal parameters and constants\n",
    "Pnom = [2800, 12, 2995, 4427, -80, 0, 1.7, 0.8 ]\n",
    "ED.set_parameter( [k01, k02, Ea1, Ea2, DH1, DH2, cp, rho], Pnom )\n",
    "ED.set_constant( [CB0, CC0], [0.0, 0.0 ] )\n",
    "\n",
    "# Control space\n",
    "Ulb = [0.8, 0.8, 0.0083, 22, 0.5, 0.5]\n",
    "Uub = [1.1, 0.835, 0.08, 35, 2.0, 2.0]\n",
    "ED.set_control( [CA0, xAD0, Q, T0, V1, V2], Ulb, Uub )"
   ]
  },
  {
   "cell_type": "markdown",
   "id": "8beba3eb-be52-4b35-ade0-30e55d358881",
   "metadata": {
    "scrolled": true
   },
   "source": [
    "\n",
    "We start by characterizing the feasible domain using nested sampling, drawing $N_{\\rm c}=512$ points."
   ]
  },
  {
   "cell_type": "code",
   "execution_count": 10,
   "id": "3f475ac8-6a9f-408e-b70c-644e9d824caa",
   "metadata": {
    "scrolled": true
   },
   "outputs": [
    {
     "name": "stdout",
     "output_type": "stream",
     "text": [
      "** INITIALIZING LIVE POINTS (512)      0.51 SEC\n",
      "\n",
      "Iterate        Contour #Feas    #Dead         Factor\n",
      "----------------------------------------------------\n",
      "      0     1.3886e+01     2        0     3.0000e-01\n",
      "     25     3.5420e-03    14      800     2.1957e-01\n",
      "     50     1.3795e-03    27     1092     1.9590e-01\n",
      "     75     8.7489e-04    39     1263     1.8324e-01\n",
      "    100     6.1408e-04    52     1405     1.7336e-01\n",
      "    125     5.0511e-04    63     1512     1.6626e-01\n",
      "    150     4.2063e-04    73     1602     1.6052e-01\n",
      "    175     3.5333e-04    89     1694     1.5485e-01\n",
      "    200     3.0365e-04    98     1770     1.5032e-01\n",
      "    225     2.6672e-04   110     1833     1.4667e-01\n",
      "    250     2.3701e-04   122     1886     1.4366e-01\n",
      "    275     2.1595e-04   131     1927     1.4138e-01\n",
      "    300     2.0123e-04   144     1964     1.3935e-01\n",
      "    325     1.8477e-04   157     2005     1.3714e-01\n",
      "    350     1.6765e-04   171     2049     1.3480e-01\n",
      "    375     1.5220e-04   180     2082     1.3307e-01\n",
      "    400     1.4083e-04   191     2109     1.3168e-01\n",
      "    425     1.3005e-04   207     2137     1.3024e-01\n",
      "    450     1.2018e-04   219     2165     1.2883e-01\n",
      "    475     1.0820e-04   235     2195     1.2733e-01\n",
      "    500     1.0036e-04   243     2216     1.2629e-01\n",
      "    525     9.3143e-05   257     2239     1.2516e-01\n",
      "    550     8.3845e-05   268     2267     1.2379e-01\n",
      "    575     7.5678e-05   285     2296     1.2240e-01\n",
      "    600     6.8123e-05   303     2323     1.2112e-01\n",
      "    625     6.3886e-05   314     2341     1.2027e-01\n",
      "    650     5.7518e-05   333     2368     1.1901e-01\n",
      "    675     5.2279e-05   341     2382     1.1836e-01\n",
      "    700     4.7780e-05   355     2399     1.1757e-01\n",
      "    725     4.0065e-05   366     2417     1.1675e-01\n",
      "    750     3.5933e-05   377     2431     1.1611e-01\n",
      "    775     3.2375e-05   390     2448     1.1534e-01\n",
      "    800     2.6796e-05   402     2464     1.1463e-01\n",
      "    825     2.3797e-05   415     2480     1.1391e-01\n",
      "    850     1.8876e-05   428     2496     1.1320e-01\n",
      "    875     1.6596e-05   438     2509     1.1263e-01\n",
      "    900     1.3483e-05   453     2526     1.1188e-01\n",
      "    925     1.1186e-05   466     2541     1.1123e-01\n",
      "    950     5.8887e-06   483     2559     1.1045e-01\n",
      "    975     2.6672e-06   500     2576     1.0972e-01\n",
      "   1000     4.7816e-07   510     2586     1.0929e-01\n",
      "   1005    -2.1727e-08   512     2588     1.0921e-01\n",
      "\n",
      "** EVALUATIONS:      64719 / 0          FAILED\n",
      "** WALL TIME:        85.45 SEC\n",
      "\n",
      "** GENERATING SUPPORT SAMPLES     |=====================| 512      2.85 SEC\n"
     ]
    },
    {
     "data": {
      "text/plain": [
       "True"
      ]
     },
     "execution_count": 10,
     "metadata": {},
     "output_type": "execute_result"
    }
   ],
   "source": [
    "# Sample 512 feasible points\n",
    "ED.options.CRITERION  = ED.ODIST\n",
    "ED.options.FEASPROP   = 64\n",
    "ED.setup()\n",
    "ED.sample_support( 512 )"
   ]
  },
  {
   "cell_type": "code",
   "execution_count": 11,
   "id": "b3ae63b3-897c-4e68-b090-ba4aa2be75ef",
   "metadata": {
    "scrolled": true
   },
   "outputs": [
    {
     "name": "stdout",
     "output_type": "stream",
     "text": [
      "[0.05293481 0.01644948 3.39468867]\n"
     ]
    }
   ],
   "source": [
    "# Record output samples\n",
    "Yini = [ sam[:,0] for sam in ED.output_sample[0] ]\n",
    "Yini = np.array( Yini )\n",
    "\n",
    "# Identify min/max output range for scaling\n",
    "Ymin = Yini.min(axis=0)\n",
    "Ymax = Yini.max(axis=0)\n",
    "Yvar = np.sqrt(Ymax-Ymin)\n",
    "print( Yvar )"
   ]
  },
  {
   "cell_type": "markdown",
   "id": "e04dc016-741a-4e14-8434-fb2e8826b008",
   "metadata": {},
   "source": [
    "We are now in a position to define the experiment design problem. We consider an initial discretization of the design domain comprising $N_{\\rm c}=64$ (Sobol sampled) candidate experiments."
   ]
  },
  {
   "cell_type": "code",
   "execution_count": 12,
   "id": "7662de24-ed20-4ecd-9ba4-8c5ea3c6a68e",
   "metadata": {
    "scrolled": true
   },
   "outputs": [],
   "source": [
    "from magnus import ExpDes\n",
    "\n",
    "# Instantiate experiment design solver\n",
    "ED = ExpDes()\n",
    "ED.set_dag( IVPDAG )\n",
    "ED.set_model( Y, Yvar.tolist() ); # Scaling is important during to large differences in output magnitude\n",
    "\n",
    "# Output constraints\n",
    "G = [ Y[0] - 2e-2, Y[1] - 2e-3, Y[2] - 85 ]\n",
    "ED.set_constraint( G )\n",
    "\n",
    "# Nominal parameters and constants\n",
    "Pnom = [2800, 12, 2995, 4427, -80, 0, 1.7, 0.8 ]\n",
    "ED.set_parameter( [k01, k02, Ea1, Ea2, DH1, DH2, cp, rho], Pnom )\n",
    "ED.set_constant( [CB0, CC0], [0.0, 0.0 ] )\n",
    "\n",
    "# Control space\n",
    "NUSAM = 64;\n",
    "Ulb = [0.8, 0.8, 0.0083, 22, 0.5, 0.5]\n",
    "Uub = [1.1, 0.835, 0.08, 35, 2.0, 2.0]\n",
    "ED.set_control( [CA0, xAD0, Q, T0, V1, V2], Ulb, Uub )"
   ]
  },
  {
   "cell_type": "markdown",
   "id": "072329e4-6ee1-4277-b61c-8e0810849926",
   "metadata": {},
   "source": [
    "First, we design a campaign with $N_{\\rm t} = 8$ experiments that maximizes the spread in output space."
   ]
  },
  {
   "cell_type": "code",
   "execution_count": 13,
   "id": "59aadc7b-c961-489f-b3e1-d052625af56b",
   "metadata": {},
   "outputs": [
    {
     "data": {
      "text/plain": [
       "True"
      ]
     },
     "execution_count": 13,
     "metadata": {},
     "output_type": "execute_result"
    }
   ],
   "source": [
    "# Set solver options\n",
    "ED.options.CRITERION                        = ED.ODIST\n",
    "ED.options.DISPLEVEL                        = 1\n",
    "ED.options.MINLPSLV.DISPLEVEL               = 1\n",
    "ED.options.MINLPSLV.MAXITER                 = 100\n",
    "ED.options.MINLPSLV.NLPSLV.GRADMETH         = ED.options.MINLPSLV.NLPSLV.FAD;\n",
    "ED.options.MINLPSLV.MIPSLV.DISPLEVEL        = 0\n",
    "ED.options.MINLPSLV.MIPSLV.INTEGRALITYFOCUS = 0\n",
    "ED.options.MINLPSLV.MIPSLV.INTFEASTOL       = 1e-9\n",
    "ED.options.NLPSLV.OPTIMTOL                  = 1e-6\n",
    "ED.options.NLPSLV.DISPLEVEL                 = 1\n",
    "ED.options.NLPSLV.GRADMETH                  = ED.options.NLPSLV.FAD\n",
    "ED.options.NLPSLV.GRADLSEARCH               = 1\n",
    "ED.options.NLPSLV.FCTPREC                   = 1e-7\n",
    "\n",
    "# Setup solver\n",
    "ED.setup()"
   ]
  },
  {
   "cell_type": "code",
   "execution_count": 14,
   "id": "a92e45c9-b2fa-42da-98eb-2fe3b00a954e",
   "metadata": {
    "scrolled": true
   },
   "outputs": [
    {
     "name": "stdout",
     "output_type": "stream",
     "text": [
      "** INITIALIZING LIVE POINTS (64)      0.08 SEC\n",
      "\n",
      "Iterate        Contour #Feas    #Dead         Factor\n",
      "----------------------------------------------------\n",
      "      0     1.0998e+01     0        0     3.0000e-01\n",
      "     25     1.8435e-03     1      137     1.9613e-01\n",
      "     50     8.0328e-04     3      183     1.6987e-01\n",
      "     75     4.4200e-04     7      212     1.5515e-01\n",
      "    100     3.6514e-04     7      229     1.4712e-01\n",
      "    125     2.8990e-04     9      242     1.4127e-01\n",
      "    150     2.3471e-04    13      260     1.3354e-01\n",
      "    175     1.8694e-04    16      269     1.2984e-01\n",
      "    200     1.5050e-04    18      278     1.2624e-01\n",
      "    225     1.3317e-04    23      286     1.2312e-01\n",
      "    250     1.2959e-04    23      288     1.2235e-01\n",
      "    275     1.0327e-04    27      296     1.1933e-01\n",
      "    300     9.2902e-05    28      299     1.1822e-01\n",
      "    325     8.6109e-05    30      304     1.1639e-01\n",
      "    350     7.8392e-05    33      310     1.1422e-01\n",
      "    375     7.0132e-05    35      314     1.1280e-01\n",
      "    400     6.3384e-05    36      321     1.1036e-01\n",
      "    425     5.4715e-05    40      327     1.0831e-01\n",
      "    450     3.4737e-05    44      332     1.0663e-01\n",
      "    475     3.0072e-05    45      335     1.0564e-01\n",
      "    500     3.0072e-05    45      335     1.0564e-01\n",
      "    525     2.9556e-05    46      336     1.0531e-01\n",
      "    550     2.0283e-05    49      340     1.0400e-01\n",
      "    575     1.8711e-05    50      341     1.0368e-01\n",
      "    600     1.2601e-05    51      344     1.0271e-01\n",
      "    625     5.9210e-06    57      351     1.0049e-01\n",
      "    650     1.8270e-06    60      354     9.9550e-02\n",
      "    672    -4.4132e-07    64      358     9.8313e-02\n",
      "\n",
      "** EVALUATIONS:      10790 / 0          FAILED\n",
      "** WALL TIME:        14.12 SEC\n",
      "\n",
      "** GENERATING SUPPORT SAMPLES     |======================| 64      0.32 SEC\n"
     ]
    },
    {
     "data": {
      "text/plain": [
       "True"
      ]
     },
     "execution_count": 14,
     "metadata": {},
     "output_type": "execute_result"
    }
   ],
   "source": [
    "# Sample supports in control domain\n",
    "ED.sample_support( NUSAM )"
   ]
  },
  {
   "cell_type": "code",
   "execution_count": 15,
   "id": "7261b16e-6e63-4608-b598-930fd686d9dc",
   "metadata": {
    "scrolled": true
   },
   "outputs": [
    {
     "name": "stdout",
     "output_type": "stream",
     "text": [
      "\n",
      "#  TERMINATION AFTER 0 ITERATION: 1.869 SEC\n",
      "#  INCUMBENT VALUE:  6.708115e-01\n",
      "#  INCUMBENT POINT:  0.000000e+00 -0.000000e+00 -0.000000e+00  1.000000e+00\n",
      "#                   -0.000000e+00 -0.000000e+00 -0.000000e+00 -0.000000e+00\n",
      "#                   -0.000000e+00 -0.000000e+00 -0.000000e+00 -0.000000e+00\n",
      "#                   -0.000000e+00 -0.000000e+00 -0.000000e+00 -0.000000e+00\n",
      "#                   -0.000000e+00 -0.000000e+00 -0.000000e+00  1.000000e+00\n",
      "#                   -0.000000e+00  0.000000e+00 -0.000000e+00 -0.000000e+00\n",
      "#                    1.000000e+00 -0.000000e+00 -0.000000e+00 -0.000000e+00\n",
      "#                    0.000000e+00 -0.000000e+00  1.000000e+00 -0.000000e+00\n",
      "#                   -0.000000e+00  0.000000e+00 -0.000000e+00 -0.000000e+00\n",
      "#                    0.000000e+00 -0.000000e+00 -0.000000e+00 -0.000000e+00\n",
      "#                   -0.000000e+00 -0.000000e+00 -0.000000e+00 -0.000000e+00\n",
      "#                    0.000000e+00  0.000000e+00 -0.000000e+00 -0.000000e+00\n",
      "#                    0.000000e+00 -0.000000e+00 -0.000000e+00  0.000000e+00\n",
      "#                    1.000000e+00 -0.000000e+00  1.000000e+00 -0.000000e+00\n",
      "#                   -0.000000e+00 -0.000000e+00  1.000000e+00  1.000000e+00\n",
      "#                    0.000000e+00 -0.000000e+00 -0.000000e+00 -0.000000e+00\n",
      "#                    0.000000e+00 -0.000000e+00 -0.000000e+00  1.000000e+00\n",
      "#                   -0.000000e+00 -0.000000e+00 -0.000000e+00 -0.000000e+00\n",
      "#                   -0.000000e+00 -0.000000e+00 -0.000000e+00 -0.000000e+00\n",
      "#                   -0.000000e+00 -0.000000e+00 -0.000000e+00 -0.000000e+00\n",
      "#                   -0.000000e+00 -0.000000e+00 -0.000000e+00  1.000000e+00\n",
      "#                   -0.000000e+00  0.000000e+00 -0.000000e+00 -0.000000e+00\n",
      "#                    1.000000e+00 -0.000000e+00 -0.000000e+00 -0.000000e+00\n",
      "#                    0.000000e+00 -0.000000e+00  1.000000e+00 -0.000000e+00\n",
      "#                   -0.000000e+00  0.000000e+00 -0.000000e+00 -0.000000e+00\n",
      "#                    0.000000e+00 -0.000000e+00 -0.000000e+00 -0.000000e+00\n",
      "#                   -0.000000e+00 -0.000000e+00 -0.000000e+00 -0.000000e+00\n",
      "#                    0.000000e+00  0.000000e+00 -0.000000e+00 -0.000000e+00\n",
      "#                    0.000000e+00 -0.000000e+00 -0.000000e+00  0.000000e+00\n",
      "#                    1.000000e+00 -0.000000e+00  1.000000e+00 -0.000000e+00\n",
      "#                   -0.000000e+00 -0.000000e+00  1.000000e+00  1.000000e+00\n",
      "#                    0.000000e+00 -0.000000e+00 -0.000000e+00 -0.000000e+00\n",
      "#                    6.708115e-01\n",
      "** EFFORT-BASED EXACT DESIGN: 6.70812e-01\n",
      "   SUPPORT #3: 1.00 x [ 8.72559e-01 8.00585e-01 3.75546e-02 2.75519e+01 1.43630e+00 1.29916e+00 ]\n",
      "   SUPPORT #19: 1.00 x [ 8.48785e-01 8.00667e-01 3.55789e-02 2.74551e+01 1.44270e+00 1.35168e+00 ]\n",
      "   SUPPORT #24: 1.00 x [ 8.27269e-01 8.00010e-01 3.39348e-02 2.75365e+01 1.49996e+00 1.29468e+00 ]\n",
      "   SUPPORT #30: 1.00 x [ 1.00129e+00 8.05937e-01 4.88703e-02 2.73972e+01 1.57463e+00 1.27701e+00 ]\n",
      "   SUPPORT #52: 1.00 x [ 9.74531e-01 8.06035e-01 4.48984e-02 2.78339e+01 1.63459e+00 1.14124e+00 ]\n",
      "   SUPPORT #54: 1.00 x [ 9.60184e-01 8.00822e-01 4.36957e-02 2.71604e+01 1.76551e+00 1.08652e+00 ]\n",
      "   SUPPORT #58: 1.00 x [ 9.04447e-01 8.00826e-01 3.58307e-02 2.71800e+01 1.29738e+00 1.30773e+00 ]\n",
      "   SUPPORT #59: 1.00 x [ 9.21790e-01 8.09070e-01 3.88689e-02 2.78250e+01 1.47764e+00 1.19792e+00 ]\n",
      "\n",
      " \n",
      " SNMEMA EXIT 100 -- finished successfully\n",
      " SNMEMA INFO 104 -- memory requirements estimated\n",
      "** REFINING SUPPORT SAMPLES\n",
      " \n",
      "\n",
      " Nonlinear constraints      32     Linear constraints       1\n",
      " Nonlinear variables        49     Linear variables         0\n",
      " Jacobian  variables        49     Objective variables      0\n",
      " Total constraints          33     Total variables         49\n",
      " \n",
      "\n",
      " \n",
      " The user has defined    1544   out of    1544   first  derivatives\n",
      " \n",
      "\n",
      " Major Minors     Step   nCon Feasible  Optimal  MeritFunction     nS Penalty\n",
      "     0     49               1 (8.4E-17) 4.4E-02  6.7081154E-01     30           r\n",
      "     1     41  1.0E+00      2  3.6E-03  9.4E-01  5.8869358E-01     30           r\n",
      "     2     24  1.0E+00      3  3.3E-02  1.6E-02 -1.1115337E-01     29         s\n",
      "     3     19  9.8E-04      6  3.3E-02  8.0E-02  3.7696931E-01     25 6.3E-01\n",
      "     4     12  6.1E-03      9  3.3E-02  1.2E-01  4.5846149E-01     26 7.2E-01\n",
      "     5     32  1.1E-02     11  3.2E-02  9.8E-02  4.5279698E-01     25 7.2E-01\n",
      "     6      8  5.3E-03     14  3.2E-02  6.6E-02  4.7011498E-01     24 7.5E-01\n",
      "     7      6  5.5E-03     17  3.2E-02  4.6E-02  4.6848706E-01     27 7.5E-01\n",
      "     8      7  1.4E-02     21  3.1E-02  2.6E-02  4.6529861E-01     25 7.5E-01\n",
      "     9     14  3.1E-02     25  3.1E-02  1.8E-02  4.6181851E-01     26 7.5E-01\n",
      "\n",
      " Major Minors     Step   nCon Feasible  Optimal  MeritFunction     nS Penalty\n",
      "    10     16  5.2E-03     29  3.0E-02  2.8E-02  4.6524093E-01     25 7.6E-01\n",
      "    11     17  1.9E-01     31  2.5E-02  7.4E-02  4.5287531E-01     25 7.6E-01\n",
      "    12     11  4.7E-02     34  2.4E-02  4.8E-02  4.4776047E-01     25 7.6E-01\n",
      "    13      4  1.0E+00     35  4.1E-03  5.8E-02  3.8786539E-01     24 7.7E-01\n",
      "    14     16  1.0E+00     36  5.5E-04  3.3E-02  3.8475163E-01     25 8.2E-01\n",
      "    15      5  1.0E+00     37  1.8E-05  2.3E-02  3.8442399E-01     27 1.6E+00\n",
      "    16      2  1.0E+00     38  1.8E-05  6.9E-03  3.8427614E-01     28 1.6E+00\n",
      "    17      4  1.0E+00     39  1.2E-06  1.3E-04  3.8424561E-01     27 1.6E+00\n",
      "    18      1  1.0E+00     41  1.3E-06  9.4E-05  3.8424414E-01     27 1.6E+00  m\n",
      "    19      1  1.0E+00     42 (1.9E-09) 3.6E-05  3.8424414E-01     27 1.6E+00\n",
      "\n",
      " Major Minors     Step   nCon Feasible  Optimal  MeritFunction     nS Penalty\n",
      "    20      2  1.0E+00     43 (5.7E-10) 4.8E-05  3.8424414E-01     26 1.6E+00\n",
      "    21      3  1.0E+00     44 (2.3E-09) 9.2E-05  3.8424413E-01     26 1.6E+00\n",
      "    22      1  1.0E+00     45 (2.3E-07) 3.0E-04  3.8424404E-01     26 1.6E+00\n",
      "    23      2  1.0E+00     46 (8.5E-10) 3.6E-04  3.8424401E-01     27 1.6E+00\n",
      "    24      2  1.0E+00     47 (3.1E-08) 3.2E-04  3.8424387E-01     26 1.6E+00\n",
      "    25      3  1.0E+00     48 (5.2E-09) 3.7E-04  3.8424380E-01     24 1.6E+00\n",
      "    26      1  1.0E+00     49  5.4E-06  1.8E-03  3.8424202E-01     24 1.6E+00\n",
      "    27      3  1.0E+00     50 (1.4E-08) 7.3E-04  3.8424166E-01     26 1.6E+00\n",
      "    28      2  1.0E+00     51 (4.3E-09) 4.8E-04  3.8424144E-01     25 1.6E+00\n",
      "    29      1  1.0E+00     52 (4.9E-09) 3.6E-06  3.8424134E-01     25 1.6E+00\n",
      "\n",
      " Major Minors     Step   nCon Feasible  Optimal  MeritFunction     nS Penalty\n",
      "    3** GRADIENT-BASED REFINED DESIGN: 3.84240e-01\n",
      "0      2  1.0E+00     53 (4.8E-09) 5.9E-06  3.8424135E-01     24 1.6E+00\n",
      "    31      1  1.0E+00     54 (5.4E-09) 2.0E-05  3.8424133E-01     24 1.6E+00\n",
      "    32      1  1.0E+00     55  2.1E-06  6.0E-04  3.8424107E-01     24 1.6E+00\n",
      "    33      1  1.0E+00     56 (4.8E-09) 5.0E-04  3.8424095E-01     24 1.6E+00\n",
      "    34      1  1.0E+00     57 (5.7E-07) 6.0E-04  3.8424071E-01     24 1.6E+00\n",
      "    35      1  4.8E-01     59  2.2E-06  4.3E-04  3.8424044E-01     24 1.6E+00\n",
      "    36      1  1.0E+00     60 (5.7E-07) 3.6E-04  3.8424020E-01     24 1.6E+00\n",
      "    37      2  1.0E+00     61 (5.0E-07) 1.1E-04  3.8424012E-01     23 1.6E+00\n",
      "    38      1  1.0E+00     62 (5.7E-07) 6.9E-05  3.8424005E-01     23 1.6E+00\n",
      "    39      1  1.0E+00     63 (8.2E-09) 2.1E-05  3.8424005E-01     23 1.6E+00\n",
      "\n",
      " Major Minors     Step   nCon Feasible  Optimal  MeritFunction     nS Penalty\n",
      "    40      1  1.0E+00     64 (2.2E-09) 2.4E-06  3.8424005E-01     23 1.6E+00\n",
      "    41      1  1.0E+00     65 (7.1E-10) 6.6E-06  3.8424005E-01     23 1.6E+00\n",
      "    42      1  1.0E+00     66 (2.3E-08) 5.5E-05  3.8424005E-01     23 1.6E+00\n",
      "    43      1  1.0E+00     67 (3.7E-08) 6.4E-05  3.8424004E-01     23 1.6E+00\n",
      "    44      1  1.0E+00     68 (3.9E-08) 3.1E-05  3.8424004E-01     23 1.6E+00\n",
      "    45      1  1.0E+00     69 (3.0E-09) 8.2E-06  3.8424004E-01     23 1.6E+00\n",
      "    46      1  1.0E+00     70 (1.6E-09)(9.3E-07) 3.8424004E-01     23 1.6E+00\n",
      " \n",
      " SNOPTA EXIT   0 -- finished successfully\n",
      " SNOPTA INFO   1 -- optimality conditions satisfied\n",
      "\n",
      " Problem name\n",
      " No. of iterations                 328   Objective            3.8424003568E-01\n",
      " No. of major iterations            46   Linear    obj. term  3.8424003568E-01\n",
      " Penalty parameter           1.586E+00   Nonlinear obj. term  0.0000000000E+00\n",
      " User function calls (total)        70\n",
      " No. of superbasics                 23   No. of basic nonlinears            17\n",
      " No. of degenerate steps             0   Percentage                       0.00\n",
      " Max x                      28 2.8E+01   Max pi                     15 1.4E+00\n",
      " Max Primal infeas          56 4.4E-08   Max Dual infeas            65 1.4E+00\n",
      " Nonlinear constraint violn    4.4E-08\n",
      "\n",
      " Solution not printed\n",
      " \n",
      " Time for MPS input                             0.00 seconds\n",
      " Time for solving problem                      13.88 seconds\n",
      " Time for solution output                       0.00 seconds\n",
      " Time for constraint functions                 13.88 seconds\n",
      " Time for objective function                    0.00 seconds\n",
      "   SUPPORT #64: 1.00 x [ 8.29144e-01 8.00000e-01 2.69167e-02 2.20000e+01 1.33427e+00 1.42365e+00 ]\n",
      "   SUPPORT #65: 1.00 x [ 8.12215e-01 8.00000e-01 3.17344e-02 2.58153e+01 1.43712e+00 1.34802e+00 ]\n",
      "   SUPPORT #66: 1.00 x [ 8.00000e-01 8.00000e-01 2.75656e-02 2.20000e+01 1.48603e+00 1.28260e+00 ]\n",
      "   SUPPORT #67: 1.00 x [ 1.00490e+00 8.00000e-01 5.24941e-02 2.73959e+01 1.54776e+00 1.24733e+00 ]\n",
      "   SUPPORT #68: 1.00 x [ 9.18198e-01 8.10996e-01 3.97612e-02 2.78320e+01 1.62864e+00 1.14174e+00 ]\n",
      "   SUPPORT #69: 1.00 x [ 9.74516e-01 8.00000e-01 4.72170e-02 2.70629e+01 1.46326e+00 1.53426e+00 ]\n",
      "   SUPPORT #70: 1.00 x [ 8.88776e-01 8.00000e-01 3.73333e-02 2.69573e+01 1.30239e+00 1.31432e+00 ]\n",
      "   SUPPORT #71: 1.00 x [ 8.22052e-01 8.06022e-01 3.15375e-02 2.78222e+01 1.47616e+00 1.20110e+00 ]\n",
      "\n",
      "\n",
      "#  TERMINATION AFTER 0 ITERATION: 1.580 SEC\n",
      "#  INCUMBENT VALUE:  3.842400e-01\n",
      "#  INCUMBENT POINT:  0.000000e+00 -0.000000e+00 -0.000000e+00 -0.000000e+00\n",
      "#                   -0.000000e+00 -0.000000e+00 -0.000000e+00 -0.000000e+00\n",
      "#                   -0.000000e+00 -0.000000e+00 -0.000000e+00 -0.000000e+00\n",
      "#                   -0.000000e+00 -0.000000e+00 -0.000000e+00 -0.000000e+00\n",
      "#                   -0.000000e+00 -0.000000e+00 -0.000000e+00 -0.000000e+00\n",
      "#                   -0.000000e+00 -0.000000e+00 -0.000000e+00 -0.000000e+00\n",
      "#                   -0.000000e+00 -0.000000e+00 -0.000000e+00 -0.000000e+00\n",
      "#                   -0.000000e+00 -0.000000e+00 -0.000000e+00 -0.000000e+00\n",
      "#                   -0.000000e+00 -0.000000e+00 -0.000000e+00 -0.000000e+00\n",
      "#                   -0.000000e+00 -0.000000e+00 -0.000000e+00 -0.000000e+00\n",
      "#                   -0.000000e+00 -0.000000e+00 -0.000000e+00 -0.000000e+00\n",
      "#                   -0.000000e+00 -0.000000e+00 -0.000000e+00 -0.000000e+00\n",
      "#                   -0.000000e+00 -0.000000e+00 -0.000000e+00 -0.000000e+00\n",
      "#                   -0.000000e+00 -0.000000e+00 -0.000000e+00 -0.000000e+00\n",
      "#                   -0.000000e+00 -0.000000e+00 -0.000000e+00 -0.000000e+00\n",
      "#                   -0.000000e+00 -0.000000e+00 -0.000000e+00 -0.000000e+00\n",
      "#                    1.000000e+00  1.000000e+00  1.000000e+00  1.000000e+00\n",
      "#                    1.000000e+00  1.000000e+00  1.000000e+00  1.000000e+00\n",
      "#                    0.000000e+00 -0.000000e+00 -0.000000e+00 -0.000000e+00\n",
      "#                   -0.000000e+00 -0.000000e+00 -0.000000e+00 -0.000000e+00\n",
      "#                   -0.000000e+00 -0.000000e+00 -0.000000e+00 -0.000000e+00\n",
      "#                   -0.000000e+00 -0.000000e+00 -0.000000e+00 -0.000000e+00\n",
      "#                   -0.000000e+00 -0.000000e+00 -0.000000e+00 -0.000000e+00\n",
      "#                   -0.000000e+00 -0.000000e+00 -0.000000e+00 -0.000000e+00\n",
      "#                   -0.000000e+00 -0.000000e+00 -0.000000e+00 -0.000000e+00\n",
      "#                   -0.000000e+00 -0.000000e+00 -0.000000e+00 -0.000000e+00\n",
      "#                   -0.000000e+00 -0.000000e+00 -0.000000e+00 -0.000000e+00\n",
      "#                   -0.000000e+00 -0.000000e+00 -0.000000e+00 -0.000000e+00\n",
      "#                   -0.000000e+00 -0.000000e+00 -0.000000e+00 -0.000000e+00\n",
      "#                   -0.000000e+00 -0.000000e+00 -0.000000e+00 -0.000000e+00\n",
      "#                   -0.000000e+00 -0.000000e+00 -0.000000e+00 -0.000000e+00\n",
      "#                   -0.000000e+00 -0.000000e+00 -0.000000e+00 -0.000000e+00\n",
      "#                   -0.000000e+00 -0.000000e+00 -0.000000e+00 -0.000000e+00\n",
      "#                   -0.000000e+00 -0.000000e+00 -0.000000e+00 -0.000000e+00\n",
      "#                    1.000000e+00  1.000000e+00  1.000000e+00  1.000000e+00\n",
      "#                    1.000000e+00  1.000000e+00  1.000000e+00  1.000000e+00\n",
      "#                    3.842400e-01\n",
      "** EFFORT-BASED EXACT DESIGN: 3.84240e-01\n",
      "   SUPPORT #64: 1.00 x [ 8.29144e-01 8.00000e-01 2.69167e-02 2.20000e+01 1.33427e+00 1.42365e+00 ]\n",
      "   SUPPORT #65: 1.00 x [ 8.12215e-01 8.00000e-01 3.17344e-02 2.58153e+01 1.43712e+00 1.34802e+00 ]\n",
      "   SUPPORT #66: 1.00 x [ 8.00000e-01 8.00000e-01 2.75656e-02 2.20000e+01 1.48603e+00 1.28260e+00 ]\n",
      "   SUPPORT #67: 1.00 x [ 1.00490e+00 8.00000e-01 5.24941e-02 2.73959e+01 1.54776e+00 1.24733e+00 ]\n",
      "   SUPPORT #68: 1.00 x [ 9.18198e-01 8.10996e-01 3.97612e-02 2.78320e+01 1.62864e+00 1.14174e+00 ]\n",
      "   SUPPORT #69: 1.00 x [ 9.74516e-01 8.00000e-01 4.72170e-02 2.70629e+01 1.46326e+00 1.53426e+00 ]\n",
      "   SUPPORT #70: 1.00 x [ 8.88776e-01 8.00000e-01 3.73333e-02 2.69573e+01 1.30239e+00 1.31432e+00 ]\n",
      "   SUPPORT #71: 1.00 x [ 8.22052e-01 8.06022e-01 3.15375e-02 2.78222e+01 1.47616e+00 1.20110e+00 ]\n",
      "\n",
      "** CONVERGENCE TOLERANCE SATISFIED\n"
     ]
    }
   ],
   "source": [
    "# Run combined effort- and gradient-based experiment design\n",
    "NEXP = 8\n",
    "ED.combined_solve( NEXP )"
   ]
  },
  {
   "cell_type": "code",
   "execution_count": 18,
   "id": "a42f7ce4-037f-44e9-81d6-f44441138caa",
   "metadata": {
    "scrolled": true
   },
   "outputs": [
    {
     "name": "stdout",
     "output_type": "stream",
     "text": [
      "{64: 1.0, 65: 1.0, 66: 1.0, 67: 1.0, 68: 1.0, 69: 1.0, 70: 1.0, 71: 1.0} [[1.71390805e-02 2.00000018e-03 6.97100396e+01]\n",
      " [2.00000000e-02 1.86573371e-03 7.23738776e+01]\n",
      " [1.99999999e-02 1.79852772e-03 6.78583435e+01]\n",
      " [2.00000000e-02 1.74808396e-03 8.50000000e+01]\n",
      " [1.99999988e-02 2.00000013e-03 8.04844898e+01]\n",
      " [1.69977850e-02 1.99999998e-03 8.31483220e+01]\n",
      " [2.00000000e-02 1.81411762e-03 7.79045552e+01]\n",
      " [2.00000003e-02 2.00000004e-03 7.49538101e+01]]\n"
     ]
    }
   ],
   "source": [
    "# Record output samples\n",
    "Eopt = ED.effort\n",
    "Ysam = [ sam[:,0] for sam in ED.output_sample[0] ]\n",
    "Yopt = [ Ysam[e] for e,r in Eopt.items() ]\n",
    "Ysam = np.array( Ysam )\n",
    "Yopt = np.array( Yopt )\n",
    "print( Eopt, Yopt )"
   ]
  },
  {
   "cell_type": "code",
   "execution_count": 25,
   "id": "b2c68afe-4141-4499-9b6b-d030404d3e43",
   "metadata": {},
   "outputs": [
    {
     "data": {
      "text/plain": [
       "[Text(0.5, 0, '$T_2$')]"
      ]
     },
     "execution_count": 25,
     "metadata": {},
     "output_type": "execute_result"
    },
    {
     "data": {
      "image/png": "[encoded data removed]",
      "text/plain": [
       "<Figure size 640x480 with 1 Axes>"
      ]
     },
     "metadata": {},
     "output_type": "display_data"
    }
   ],
   "source": [
    "from mpl_toolkits import mplot3d\n",
    "\n",
    "fig = plt.figure()\n",
    "ax = plt.axes(projection='3d')\n",
    "ax.scatter(Yini[:,0], Yini[:,1], Yini[:,2], marker='.', s=3, c='g', linewidth=2);\n",
    "ax.scatter(Ysam[:,0], Ysam[:,1], Ysam[:,2], marker='.', s=15, c='r', linewidth=2);\n",
    "ax.scatter(Yopt[:,0], Yopt[:,1], Yopt[:,2], s=40, c='b', marker=\"h\", linewidth=1);\n",
    "ax.set(xlabel=\"$x_{{\\\\sf A},2}$\")\n",
    "ax.set(ylabel=\"$x_{{\\\\sf C},2}$\")\n",
    "ax.set(zlabel=\"$T_2$\")"
   ]
  },
  {
   "cell_type": "code",
   "execution_count": null,
   "id": "7d0a101f-5db4-43f1-8b11-10ea70ca1d67",
   "metadata": {},
   "outputs": [],
   "source": []
  }
 ],
 "metadata": {
  "kernelspec": {
   "display_name": "Python 3 (ipykernel)",
   "language": "python",
   "name": "python3"
  },
  "language_info": {
   "codemirror_mode": {
    "name": "ipython",
    "version": 3
   },
   "file_extension": ".py",
   "mimetype": "text/x-python",
   "name": "python",
   "nbconvert_exporter": "python",
   "pygments_lexer": "ipython3",
   "version": "3.12.2"
  }
 },
 "nbformat": 4,
 "nbformat_minor": 5
}
